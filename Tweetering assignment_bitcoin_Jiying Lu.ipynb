{
 "cells": [
  {
   "cell_type": "code",
   "execution_count": 1,
   "metadata": {
    "collapsed": false,
    "deletable": true,
    "editable": true
   },
   "outputs": [
    {
     "data": {
      "application/javascript": [
       "IPython.notebook.set_autosave_interval(0)"
      ]
     },
     "metadata": {},
     "output_type": "display_data"
    },
    {
     "name": "stdout",
     "output_type": "stream",
     "text": [
      "Autosave disabled\n"
     ]
    }
   ],
   "source": [
    "%autosave 0"
   ]
  },
  {
   "cell_type": "markdown",
   "metadata": {
    "deletable": true,
    "editable": true
   },
   "source": [
    "### Import file"
   ]
  },
  {
   "cell_type": "code",
   "execution_count": 2,
   "metadata": {
    "collapsed": true,
    "deletable": true,
    "editable": true
   },
   "outputs": [],
   "source": [
    "f = open('bitcoin.txt','r') \n",
    "#open txt file"
   ]
  },
  {
   "cell_type": "code",
   "execution_count": 3,
   "metadata": {
    "collapsed": true,
    "deletable": true,
    "editable": true
   },
   "outputs": [],
   "source": [
    "bitcoin = f.read() \n",
    "#read the txt file"
   ]
  },
  {
   "cell_type": "code",
   "execution_count": 4,
   "metadata": {
    "collapsed": false,
    "deletable": true,
    "editable": true
   },
   "outputs": [
    {
     "name": "stdout",
     "output_type": "stream",
     "text": [
      "RT @Love_OffersUK: 3 brand new freebies have been uploaded! House insulation, women's fashion accessories and Bitcoin guide! You NEED to si…\n",
      "RT @CoachKhayr: I liked a @YouTube video https://t.co/heKGOuU8oN Bitcoin &amp; Price Manipulation - Will It Ever End?\n",
      "RT @BRANDONWARDELL: i don’t care about bitcoin, i care about,,, clitcoin. that’s right folks. stop investing in cryptocurrency and focus on…\n",
      "RT @Genie_ICO: 25% Airdrop happening on Monday. Make sure you get your investment in by Sunday midnight Singapore time! You get - 50% bonus…\n",
      "RT @TheOnion: Breaking: Bitcoin Value Currently Plummeting—No, Wait—Skyrocketing—No, Plummeting https://t.co/PaB7ATX51o https://t.co/idIO6r…\n",
      "RT @MHiesboeck: The impacts on storage and compliance from #Blockchain, robots and #IoT   https://t.co/OfQCotPXBa #InternetOfThings #IIoT #…\n",
      "RT @MarketStockNewz: 🔥TURN UR $1,000 INVESTMENT INTO $20,000+ 💰\n",
      "\n",
      "JOIN #TEAMCRYPTO @BIGMONEYMIKE6 BIGGEST PENNYSTOCK ALERT EVER.... \n",
      "\n",
      "🔥EMAIL…\n",
      "RT @g\n"
     ]
    }
   ],
   "source": [
    "print(bitcoin[:1000]) \n",
    "#show the first 1000 strings in txt file in order to have a basic idea of how those tweets look like"
   ]
  },
  {
   "cell_type": "code",
   "execution_count": 5,
   "metadata": {
    "collapsed": false,
    "deletable": true,
    "editable": true
   },
   "outputs": [
    {
     "data": {
      "text/plain": [
       "218001"
      ]
     },
     "execution_count": 5,
     "metadata": {},
     "output_type": "execute_result"
    }
   ],
   "source": [
    "len(bitcoin)\n",
    "#to see how many strings in this txt file"
   ]
  },
  {
   "cell_type": "code",
   "execution_count": 6,
   "metadata": {
    "collapsed": false,
    "deletable": true,
    "editable": true
   },
   "outputs": [
    {
     "data": {
      "text/plain": [
       "str"
      ]
     },
     "execution_count": 6,
     "metadata": {},
     "output_type": "execute_result"
    }
   ],
   "source": [
    "type(bitcoin)\n",
    "#the type right now is string"
   ]
  },
  {
   "cell_type": "code",
   "execution_count": 7,
   "metadata": {
    "collapsed": false,
    "deletable": true,
    "editable": true
   },
   "outputs": [],
   "source": [
    "punc = ['#','@','%','&','*','?','!','.',',',';',':','-','_','','$','=','+','(',')']\n",
    "for w in punc:\n",
    "    if w in bitcoin:\n",
    "       bitcoin = bitcoin.replace(w,'')\n",
    "#to remove all confusing punctuations from strings\n",
    "#I've also tried strip methods, but those methods couldn't remove punctuations completely, so I came up with this replacing for loop."
   ]
  },
  {
   "cell_type": "code",
   "execution_count": 8,
   "metadata": {
    "collapsed": false,
    "deletable": true,
    "editable": true
   },
   "outputs": [
    {
     "data": {
      "text/plain": [
       "str"
      ]
     },
     "execution_count": 8,
     "metadata": {},
     "output_type": "execute_result"
    }
   ],
   "source": [
    "type(bitcoin)\n",
    "#the type is still string"
   ]
  },
  {
   "cell_type": "code",
   "execution_count": 9,
   "metadata": {
    "collapsed": false,
    "deletable": true,
    "editable": true
   },
   "outputs": [
    {
     "data": {
      "text/plain": [
       "206152"
      ]
     },
     "execution_count": 9,
     "metadata": {},
     "output_type": "execute_result"
    }
   ],
   "source": [
    "len(bitcoin)\n",
    "#the length if 206102"
   ]
  },
  {
   "cell_type": "code",
   "execution_count": 10,
   "metadata": {
    "collapsed": false,
    "deletable": true,
    "editable": true,
    "scrolled": true
   },
   "outputs": [
    {
     "name": "stdout",
     "output_type": "stream",
     "text": [
      "RT LoveOffersUK 3 brand new freebies have been uploaded House insulation women's fashion accessories\n"
     ]
    }
   ],
   "source": [
    "print(bitcoin[:100])\n",
    "#to make sure I removed all punctuations(the strings looks pretty clean)"
   ]
  },
  {
   "cell_type": "code",
   "execution_count": 11,
   "metadata": {
    "collapsed": false,
    "deletable": true,
    "editable": true
   },
   "outputs": [],
   "source": [
    "bitcoinc = bitcoin.lower().replace('\\n',' ').split()\n",
    "#to make every characters in lower case, replace \\n with space, split it into list"
   ]
  },
  {
   "cell_type": "code",
   "execution_count": 12,
   "metadata": {
    "collapsed": false,
    "deletable": true,
    "editable": true
   },
   "outputs": [
    {
     "data": {
      "text/plain": [
       "list"
      ]
     },
     "execution_count": 12,
     "metadata": {},
     "output_type": "execute_result"
    }
   ],
   "source": [
    "type(bitcoinc)\n",
    "#check does it successfully converts to list"
   ]
  },
  {
   "cell_type": "code",
   "execution_count": 13,
   "metadata": {
    "collapsed": false,
    "deletable": true,
    "editable": true
   },
   "outputs": [
    {
     "data": {
      "text/plain": [
       "30779"
      ]
     },
     "execution_count": 13,
     "metadata": {},
     "output_type": "execute_result"
    }
   ],
   "source": [
    "len(bitcoinc)\n",
    "#I have 30,779 words in my list"
   ]
  },
  {
   "cell_type": "code",
   "execution_count": 14,
   "metadata": {
    "collapsed": false,
    "deletable": true,
    "editable": true,
    "scrolled": false
   },
   "outputs": [
    {
     "name": "stdout",
     "output_type": "stream",
     "text": [
      "['rt', 'loveoffersuk', '3', 'brand', 'new', 'freebies', 'have', 'been', 'uploaded', 'house', 'insulation', \"women's\", 'fashion', 'accessories', 'and', 'bitcoin', 'guide', 'you', 'need', 'to', 'si\\xe2\\x80\\xa6', 'rt', 'coachkhayr', 'i', 'liked', 'a', 'youtube', 'video', 'https//tco/hekgouu8on', 'bitcoin', 'amp', 'price', 'manipulation', 'will', 'it', 'ever', 'end', 'rt', 'brandonwardell', 'i', 'don\\xe2\\x80\\x99t', 'care', 'about', 'bitcoin', 'i', 'care', 'about', 'clitcoin', 'that\\xe2\\x80\\x99s', 'right', 'folks', 'stop', 'investing', 'in', 'cryptocurrency', 'and', 'focus', 'on\\xe2\\x80\\xa6', 'rt', 'genieico', '25', 'airdrop', 'happening', 'on', 'monday', 'make', 'sure', 'you', 'get', 'your', 'investment', 'in', 'by', 'sunday', 'midnight', 'singapore', 'time', 'you', 'get', '50', 'bonus\\xe2\\x80\\xa6', 'rt', 'theonion', 'breaking', 'bitcoin', 'value', 'currently', 'plummeting\\xe2\\x80\\x94no', 'wait\\xe2\\x80\\x94skyrocketing\\xe2\\x80\\x94no', 'plummeting', 'https//tco/pab7atx51o', 'https//tco/idio6r\\xe2\\x80\\xa6', 'rt', 'mhiesboeck', 'the', 'impacts', 'on', 'storage', 'and', 'compliance', 'from', 'blockchain', 'robots', 'and', 'iot', 'https//tco/ofqcotpxba', 'internetofthings', 'iiot', '\\xe2\\x80\\xa6', 'rt', 'marketstocknewz', '\\xf0\\x9f\\x94\\xa5turn', 'ur', '1000', 'investment', 'into', '20000', '\\xf0\\x9f\\x92\\xb0', 'join', 'teamcrypto', 'bigmoneymike6', 'biggest', 'pennystock', 'alert', 'ever', '\\xf0\\x9f\\x94\\xa5email\\xe2\\x80\\xa6', 'rt', 'guwop', 'if', 'you', 'lost', 'money', 'on', 'bitcoin', 'today', 'target', 'is', 'giving', 'away', '5', 'giftcards', 'to', 'anyone', 'that', 'gets', 'a', 'flu', 'shot', 'on', 'my', '8th', 'shot', 'today', 'feel\\xe2\\x80\\xa6', 'rt', 'legionhoops', 'mark', 'cuban', 'has', 'announced', 'the', 'dallas', 'mavericks', 'will', 'accept', 'cryptocurrency', 'next', 'season', 'including', 'bitcoin', 'and', 'ether', 'interes\\xe2\\x80\\xa6', 'bitcoin', 'typically', 'crashes', 'midjanuary', 'https//tco/fwlmq0snq2', 'https//tco/3dtdpwr0yg', 'rt', 'geekbtc', 'in', 'celebration', 'of', '3000', 'followers', 'we', 'will', 'be', 'giving', 'away', '4btc', 'and', 'a', 'trezor', 'white', 'hardware', 'walletshipped', 'most', 'placesretweet\\xe2\\x80\\xa6', 'initiation', 'of', 'force', 'https//tco/n8oyhh4pf0', 'bitcoin', 'plunges', 'below', '10000', 'in', 'worst', '2day', 'rout', 'in', '3', 'years', 'https//tco/34jrlx1zno', 'bitcoin', 'pioneer', 'jeff', 'garzik', 'says', 'this', 'new', 'coin', 'will', 'work', 'on', 'multiple', 'blockchains', 'garzik', 'who', 'is', 'one', 'of', 'the', 'very', 'ta\\xe2\\x80\\xa6', 'https//tco/drobvnun3z', 'rt', 'oracleofeth', '\"i', 'will', 'eat', 'my', 'own', 'dick', 'if', 'bitcoin', \"isn't\", 'worth', 'over', '100k', 'by', 'next', 'winter\"', 'warren', 'b', 'soundofthewinds', 'bitcoin', '\\xf0\\x9f\\xa4\\xa6\\xf0\\x9f\\x8f\\xbc\\xe2\\x80\\x8d\\xe2\\x99\\x82\\xef\\xb8\\x8f', 'rt', 'manjeetrege', 'global', 'x', 'internet', 'of', 'things', 'etf', 'announces', 'special', 'dividend', 'of', '002', 'https//tco/ogpce7oycb', 'iot', 'internetofthings', 'iiot', '\\xe2\\x80\\xa6', 'rt', 'symmetryfund', 'bitcoin', 'sinks', 'below', '10000', 'and', 'is', 'now', '52', 'off', 'alltime', 'high', 'as', 'cryptocurrency', 'selloff', 'deepens', 'https//tco/mfokvlxajn\\xe2\\x80\\xa6', 'government', 'crackdowns', 'it', 'appears', 'that', 'bitcoin', 'sentiment', 'is', 'shifting', 'from', 'a', 'state', 'of', 'euphoria', 'to', 'a', 'point', 'of', 'negativ\\xe2\\x80\\xa6', 'https//tco/zcure23sjs', 'the', 'latest', 'world', 'today', 'https//tco/6wk5w8tpr0', 'thanks', 'to', 'solatidoblades', 'doward', 'mister288965', 'bitcoin', 'cia', 'rt', 'paulkrugman', 'so', 'bitcoin', 'just', 'lost', 'half', 'its', 'value', 'where', 'does', 'it', 'now', 'stand', 'relative', 'to', 'fundamentals', 'hard', 'to', 'say', 'because', 'there', \"aren't\", 'a\\xe2\\x80\\xa6', 'trevorissaltd', 'ikeojuok', 'asamoh', 'bitcoin', 'bitcoin', 'has', 'decreased', \"it's\", 'value', 'by', '50', 'just', 'want', 'to', 'say', 'i', 'told', 'everybody', 'so', 'bitcoin', 'will', 'not', 'last', 'eventually', 'https//tco/7rkoptfk8t', \"i'll\", 'take', 'your', 'word', 'for', 'it', 'https//tco/dcopqu7rxc', 'rt', 'seigi44', 'doing', '10', 'btc', 'giveaway', '\\xf0\\x9f\\xa4\\x91', 'will', 'give', 'out', '1', 'btc', 'to', '10', 'people', 'each', 'all', 'you', 'have', 'to', 'do', 'to', 'enter', 'is', '1', 'follow', 'me', '2', 'retweet', 'and\\xe2\\x80\\xa6', 'rt', '0xabad1dea', 'i', 'want', 'bitcoin', 'to', 'crash', 'i', 'want', 'it', 'to', 'become', 'financially', 'untenable', 'to', 'keep', 'committing', 'climate', 'change', 'crimes', 'for', 'everquest', 'g\\xe2\\x80\\xa6', 'rt', 'randyhilarski', 'bitcoin', 'news', 'blockstream', 'launches', 'micropayments', 'processing', 'system', 'for', 'bitcoin', 'apps', 'bitcoin', 'startup', 'blockstream', 'has', 'in\\xe2\\x80\\xa6', 'new', 'bitcoin', 'report', 'for', 'block', '504703', 'there', 'were', '39', 'transactions', 'over', '500000', 'usd', 'totaling', '55443894', 'usd', 'full', 're\\xe2\\x80\\xa6', 'https//tco/t58k8lgd64', 'cryptorca', 'nope', 'both', 'flo', 'and', 'zrx', 'failed', 'nope', 'both', 'flo', 'and', 'zrx', 'failed', '\\xe2\\x80\\x94', 'bitcoin', 'dad', 'bitcoindad', 'january', '17', '2018', 'rt', 'guwop', 'if', 'you', 'lost', 'money', 'on']\n"
     ]
    }
   ],
   "source": [
    "print(bitcoinc[:500])\n",
    "#to view how this list looks like"
   ]
  },
  {
   "cell_type": "markdown",
   "metadata": {
    "collapsed": true,
    "deletable": true,
    "editable": true
   },
   "source": [
    "#### Import positive words list"
   ]
  },
  {
   "cell_type": "code",
   "execution_count": 15,
   "metadata": {
    "collapsed": true,
    "deletable": true,
    "editable": true
   },
   "outputs": [],
   "source": [
    "f2 = open('positive words for tweetering.txt','r')"
   ]
  },
  {
   "cell_type": "code",
   "execution_count": 16,
   "metadata": {
    "collapsed": true,
    "deletable": true,
    "editable": true
   },
   "outputs": [],
   "source": [
    "pw = f2.read().lower().split()\n",
    "#to read positive words list, convert all characters into lower case and split them into list"
   ]
  },
  {
   "cell_type": "code",
   "execution_count": 17,
   "metadata": {
    "collapsed": false,
    "deletable": true,
    "editable": true
   },
   "outputs": [
    {
     "data": {
      "text/plain": [
       "list"
      ]
     },
     "execution_count": 17,
     "metadata": {},
     "output_type": "execute_result"
    }
   ],
   "source": [
    "type(pw)\n",
    "#to check the type is list"
   ]
  },
  {
   "cell_type": "code",
   "execution_count": 18,
   "metadata": {
    "collapsed": false,
    "deletable": true,
    "editable": true
   },
   "outputs": [
    {
     "data": {
      "text/plain": [
       "2007"
      ]
     },
     "execution_count": 18,
     "metadata": {},
     "output_type": "execute_result"
    }
   ],
   "source": [
    "len(pw)\n",
    "#I have 2007 positive words in list, should be enough"
   ]
  },
  {
   "cell_type": "code",
   "execution_count": 19,
   "metadata": {
    "collapsed": false,
    "deletable": true,
    "editable": true
   },
   "outputs": [
    {
     "name": "stdout",
     "output_type": "stream",
     "text": [
      "['a+', 'abound', 'abounds', 'abundance', 'abundant', 'accessable', 'accessible', 'acclaim', 'acclaimed', 'acclamation', 'accolade', 'accolades', 'accommodative', 'accomodative', 'accomplish', 'accomplished', 'accomplishment', 'accomplishments', 'accurate', 'accurately', 'achievable', 'achievement', 'achievements', 'achievible', 'acumen', 'adaptable', 'adaptive', 'adequate', 'adjustable', 'admirable', 'admirably', 'admiration', 'admire', 'admirer', 'admiring', 'admiringly', 'adorable', 'adore', 'adored', 'adorer', 'adoring', 'adoringly', 'adroit', 'adroitly', 'adulate', 'adulation', 'adulatory', 'advanced', 'advantage', 'advantageous', 'advantageously', 'advantages', 'adventuresome', 'adventurous', 'advocate', 'advocated', 'advocates', 'affability', 'affable', 'affably', 'affectation', 'affection', 'affectionate', 'affinity', 'affirm', 'affirmation', 'affirmative', 'affluence', 'affluent', 'afford', 'affordable', 'affordably', 'afordable', 'agile', 'agilely', 'agility', 'agreeable', 'agreeableness', 'agreeably', 'all-around', 'alluring', 'alluringly', 'altruistic', 'altruistically', 'amaze', 'amazed', 'amazement', 'amazes', 'amazing', 'amazingly', 'ambitious', 'ambitiously', 'ameliorate', 'amenable', 'amenity', 'amiability', 'amiabily', 'amiable', 'amicability', 'amicable']\n"
     ]
    }
   ],
   "source": [
    "print(pw[:100])\n",
    "#let's take a look of first 100 words"
   ]
  },
  {
   "cell_type": "markdown",
   "metadata": {
    "collapsed": true,
    "deletable": true,
    "editable": true
   },
   "source": [
    "#### Import negative words list"
   ]
  },
  {
   "cell_type": "code",
   "execution_count": 20,
   "metadata": {
    "collapsed": true,
    "deletable": true,
    "editable": true
   },
   "outputs": [],
   "source": [
    "f3 = open('negative words for tweetering.txt','r')"
   ]
  },
  {
   "cell_type": "code",
   "execution_count": 21,
   "metadata": {
    "collapsed": true,
    "deletable": true,
    "editable": true
   },
   "outputs": [],
   "source": [
    "nw = f3.read().lower().split()\n",
    "#to read negative words list, convert all characters into lower case and split them into list"
   ]
  },
  {
   "cell_type": "code",
   "execution_count": 22,
   "metadata": {
    "collapsed": false,
    "deletable": true,
    "editable": true
   },
   "outputs": [
    {
     "data": {
      "text/plain": [
       "list"
      ]
     },
     "execution_count": 22,
     "metadata": {},
     "output_type": "execute_result"
    }
   ],
   "source": [
    "type(nw)\n",
    "#to check the type is list"
   ]
  },
  {
   "cell_type": "code",
   "execution_count": 23,
   "metadata": {
    "collapsed": false,
    "deletable": true,
    "editable": true
   },
   "outputs": [
    {
     "data": {
      "text/plain": [
       "4783"
      ]
     },
     "execution_count": 23,
     "metadata": {},
     "output_type": "execute_result"
    }
   ],
   "source": [
    "len(nw)\n",
    "#I have 4783 negative words in list, should be enough"
   ]
  },
  {
   "cell_type": "code",
   "execution_count": 24,
   "metadata": {
    "collapsed": false,
    "deletable": true,
    "editable": true
   },
   "outputs": [
    {
     "name": "stdout",
     "output_type": "stream",
     "text": [
      "['2-faced', '2-faces', 'abnormal', 'abolish', 'abominable', 'abominably', 'abominate', 'abomination', 'abort', 'aborted', 'aborts', 'abrade', 'abrasive', 'abrupt', 'abruptly', 'abscond', 'absence', 'absent-minded', 'absentee', 'absurd', 'absurdity', 'absurdly', 'absurdness', 'abuse', 'abused', 'abuses', 'abusive', 'abysmal', 'abysmally', 'abyss', 'accidental', 'accost', 'accursed', 'accusation', 'accusations', 'accuse', 'accuses', 'accusing', 'accusingly', 'acerbate', 'acerbic', 'acerbically', 'ache', 'ached', 'aches', 'achey', 'aching', 'acrid', 'acridly', 'acridness', 'acrimonious', 'acrimoniously', 'acrimony', 'adamant', 'adamantly', 'addict', 'addicted', 'addicting', 'addicts', 'admonish', 'admonisher', 'admonishingly', 'admonishment', 'admonition', 'adulterate', 'adulterated', 'adulteration', 'adulterier', 'adversarial', 'adversary', 'adverse', 'adversity', 'afflict', 'affliction', 'afflictive', 'affront', 'afraid', 'aggravate', 'aggravating', 'aggravation', 'aggression', 'aggressive', 'aggressiveness', 'aggressor', 'aggrieve', 'aggrieved', 'aggrivation', 'aghast', 'agonies', 'agonize', 'agonizing', 'agonizingly', 'agony', 'aground', 'ail', 'ailing', 'ailment', 'aimless', 'alarm', 'alarmed']\n"
     ]
    }
   ],
   "source": [
    "print(nw[:100])"
   ]
  },
  {
   "cell_type": "markdown",
   "metadata": {
    "deletable": true,
    "editable": true
   },
   "source": [
    "#### Import stop words"
   ]
  },
  {
   "cell_type": "code",
   "execution_count": 25,
   "metadata": {
    "collapsed": true,
    "deletable": true,
    "editable": true
   },
   "outputs": [],
   "source": [
    "f4 = open('stopwords for tweetering.txt', 'r')"
   ]
  },
  {
   "cell_type": "code",
   "execution_count": 26,
   "metadata": {
    "collapsed": true,
    "deletable": true,
    "editable": true
   },
   "outputs": [],
   "source": [
    "sw = f4.read().lower().split()\n",
    "#to read stop words list, convert all characters into lower case and split them into list"
   ]
  },
  {
   "cell_type": "code",
   "execution_count": 27,
   "metadata": {
    "collapsed": false,
    "deletable": true,
    "editable": true
   },
   "outputs": [
    {
     "data": {
      "text/plain": [
       "544"
      ]
     },
     "execution_count": 27,
     "metadata": {},
     "output_type": "execute_result"
    }
   ],
   "source": [
    "len(sw)\n",
    "#I have 544 stop words in list"
   ]
  },
  {
   "cell_type": "code",
   "execution_count": 28,
   "metadata": {
    "collapsed": false,
    "deletable": true,
    "editable": true
   },
   "outputs": [
    {
     "name": "stdout",
     "output_type": "stream",
     "text": [
      "[\"a's\", 'able', 'about', 'above', 'according', 'accordingly', 'across', 'actually', 'after', 'afterwards', 'again', 'against', \"ain't\", 'all', 'allow', 'allows', 'almost', 'alone', 'along', 'already', 'also', 'although', 'always', 'am', 'among', 'amongst', 'an', 'and', 'another', 'any', 'anybody', 'anyhow', 'anyone', 'anything', 'anyway', 'anyways', 'anywhere', 'apart', 'appear', 'appreciate', 'appropriate', 'are', \"aren't\", 'around', 'as', 'aside', 'ask', 'asking', 'associated', 'at', 'available', 'away', 'awfully', 'be', 'became', 'because', 'become', 'becomes', 'becoming', 'been', 'before', 'beforehand', 'behind', 'being', 'believe', 'below', 'beside', 'besides', 'best', 'better', 'between', 'beyond', 'both', 'brief', 'but', 'by', \"c'mon\", \"c's\", 'came', 'can', \"can't\", 'cannot', 'cant', 'cause', 'causes', 'certain', 'certainly', 'changes', 'clearly', 'co', 'com', 'come', 'comes', 'concerning', 'consequently', 'consider', 'considering', 'contain', 'containing', 'contains']\n"
     ]
    }
   ],
   "source": [
    "print(sw[:100])"
   ]
  },
  {
   "cell_type": "markdown",
   "metadata": {
    "deletable": true,
    "editable": true
   },
   "source": [
    "#### Compare tweeters with words lists"
   ]
  },
  {
   "cell_type": "code",
   "execution_count": 29,
   "metadata": {
    "collapsed": true,
    "deletable": true,
    "editable": true
   },
   "outputs": [],
   "source": [
    "pscore = 0\n",
    "#Since I want to assign 1 to every positive word, I create a object called pscore and set it equals to 0 at first"
   ]
  },
  {
   "cell_type": "code",
   "execution_count": 30,
   "metadata": {
    "collapsed": true,
    "deletable": true,
    "editable": true
   },
   "outputs": [],
   "source": [
    "pl = []\n",
    "#I also want to take a look of those positive words in bitcoin tweets, so I create an empty list called pl and then I can add the positive words into this list."
   ]
  },
  {
   "cell_type": "code",
   "execution_count": 31,
   "metadata": {
    "collapsed": true,
    "deletable": true,
    "editable": true
   },
   "outputs": [],
   "source": [
    "nscore = 0\n",
    "#same as the method for positive words above"
   ]
  },
  {
   "cell_type": "code",
   "execution_count": 32,
   "metadata": {
    "collapsed": true,
    "deletable": true,
    "editable": true
   },
   "outputs": [],
   "source": [
    "nl = []\n",
    "#same as the method for positive words"
   ]
  },
  {
   "cell_type": "code",
   "execution_count": 33,
   "metadata": {
    "collapsed": true,
    "deletable": true,
    "editable": true
   },
   "outputs": [],
   "source": [
    "scounts = 0\n",
    "#because the score for stop words is 0, however, I still want to see how many stop words in those tweets, so I make it counts instead of score."
   ]
  },
  {
   "cell_type": "code",
   "execution_count": 34,
   "metadata": {
    "collapsed": true,
    "deletable": true,
    "editable": true
   },
   "outputs": [],
   "source": [
    "sl = []"
   ]
  },
  {
   "cell_type": "code",
   "execution_count": 35,
   "metadata": {
    "collapsed": true,
    "deletable": true,
    "editable": true
   },
   "outputs": [],
   "source": [
    "for i in bitcoinc:\n",
    "    if i in pw:\n",
    "        pscore += 1\n",
    "        pl.append(i)\n",
    "    if i in nw:\n",
    "        nscore -= 1\n",
    "        nl.append(i)\n",
    "    if i in sw:\n",
    "        scounts += 1\n",
    "        sl.append(i)\n",
    "#to check whether each word in bitcoincc matches to positive words list, negative words list or stop words list\n",
    "#if it matches to pw, assign 1 score to it, if it matched to nw, assign -1 score to it.\n",
    "#if it matched to sw, add 1 to scounts."
   ]
  },
  {
   "cell_type": "code",
   "execution_count": 36,
   "metadata": {
    "collapsed": false,
    "deletable": true,
    "editable": true
   },
   "outputs": [
    {
     "name": "stdout",
     "output_type": "stream",
     "text": [
      "639\n"
     ]
    }
   ],
   "source": [
    "print pscore\n",
    "#I got 639 score on positive words"
   ]
  },
  {
   "cell_type": "code",
   "execution_count": 37,
   "metadata": {
    "collapsed": false,
    "deletable": true,
    "editable": true
   },
   "outputs": [
    {
     "name": "stdout",
     "output_type": "stream",
     "text": [
      "['liked', 'right', 'celebration', 'work', 'worth', 'euphoria', 'right', 'free', 'boom', 'helped', 'thank', 'like', 'important', 'worth', 'good', 'thoughtful', 'better', 'breathtaking', 'tolerable', 'worth', 'gains', 'gain', 'right', 'free', 'thank', 'available', 'celebration', 'gains', 'gain', 'right', 'enough', 'gold', 'top', 'breathtaking', 'stunning', 'best', 'savings', 'faster', 'faster', 'lucky', 'winner', 'better', 'interests', 'breathtaking', 'helped', 'thank', 'better', 'support', 'well', 'great', 'excellent', 'sane', 'rational', 'best', 'right', 'afford', 'great', 'thank', 'support', 'great', 'winner', 'sharp', 'bloom', 'support', 'happy', 'amazing', 'exciting', 'well', 'subsidized', 'reward', 'recommend', 'good', 'happy', 'right', 'gold', 'entertaining', 'educated', 'right', 'suitable', 'like', 'good', 'breathtaking', 'important', 'better', 'like', 'worth', 'clear', 'free', 'great', 'right', 'advanced', 'lead', 'savings', 'like', 'like', 'right', 'celebration', 'bonus', 'bonus', 'good']\n"
     ]
    }
   ],
   "source": [
    "print(pl[:100])\n",
    "#take a look for the first 100 positive words in tweets, such as 'worth', 'boom', 'gains',etc."
   ]
  },
  {
   "cell_type": "code",
   "execution_count": 38,
   "metadata": {
    "collapsed": false,
    "deletable": true,
    "editable": true
   },
   "outputs": [
    {
     "name": "stdout",
     "output_type": "stream",
     "text": [
      "-780\n"
     ]
    }
   ],
   "source": [
    "print nscore\n",
    "#I got -780 score on negative words"
   ]
  },
  {
   "cell_type": "code",
   "execution_count": 39,
   "metadata": {
    "collapsed": false,
    "deletable": true,
    "editable": true
   },
   "outputs": [
    {
     "name": "stdout",
     "output_type": "stream",
     "text": [
      "['manipulation', 'breaking', 'lost', 'crashes', 'worst', 'dick', 'lost', 'hard', 'crash', 'untenable', 'failed', 'failed', 'lost', 'unconfirmed', 'blame', 'slump', 'dick', 'warning', 'distract', 'lost', 'lose', 'lost', 'falls', 'lost', 'dick', 'lost', 'losses', 'lose', 'breaking', 'breach', 'fallen', 'losses', 'lose', 'stupid', 'lost', 'crashes', 'lost', 'distract', 'lost', 'distract', 'tense', 'killed', 'fall', 'ugly', 'worse', 'falls', 'hedge', 'lost', 'lost', 'fears', 'lost', 'breaking', 'falls', 'breaking', 'ignore', 'stain', 'scam', 'lies', 'break', 'volatility', 'denies', 'lies', 'break', 'lost', 'decline', 'falls', 'lost', 'lost', 'threat', 'dangerous', 'denies', 'declining', 'lost', 'break', 'sink', 'fret', 'wrong', 'worst', 'die', 'lost', 'distract', 'falls', 'lost', 'breaking', 'hacks', 'volatile', 'breach', 'unconfirmed', 'die', 'lost', 'bad', 'fell', 'crashed', 'lose', 'fall', 'lost', 'dumb', 'shit', 'fucking', 'crashed']\n"
     ]
    }
   ],
   "source": [
    "print(nl[:100])\n",
    "#take a look for the first 100 negative words in tweets, such as 'lost', 'crash', 'untenable', 'failed',etc."
   ]
  },
  {
   "cell_type": "code",
   "execution_count": 40,
   "metadata": {
    "collapsed": false,
    "deletable": true,
    "editable": true
   },
   "outputs": [
    {
     "name": "stdout",
     "output_type": "stream",
     "text": [
      "10399\n"
     ]
    }
   ],
   "source": [
    "print scounts\n",
    "#I have 10,399 stop words in these tweets."
   ]
  },
  {
   "cell_type": "code",
   "execution_count": 41,
   "metadata": {
    "collapsed": false,
    "deletable": true,
    "editable": true
   },
   "outputs": [
    {
     "name": "stdout",
     "output_type": "stream",
     "text": [
      "['new', 'have', 'been', 'and', 'you', 'need', 'to', 'liked', 'will', 'it', 'ever', 'about', 'about', 'right', 'in', 'and', 'on', 'sure', 'you', 'get', 'your', 'in', 'by', 'you', 'get', 'value', 'currently', 'the', 'on', 'and', 'from', 'and', 'into', 'ever', 'if', 'you', 'on', 'is', 'away', 'to', 'anyone', 'that', 'gets', 'on', 'my', 'has', 'the', 'will', 'next', 'and', 'in', 'of', 'we', 'will', 'be', 'away', 'and', 'most', 'of', 'below', 'in', 'in', 'says', 'this', 'new', 'will', 'on', 'who', 'is', 'one', 'of', 'the', 'very', 'will', 'my', 'own', 'if', \"isn't\", 'over', 'by', 'next', 'of', 'of', 'below', 'and', 'is', 'now', 'off', 'as', 'it', 'that', 'is', 'from', 'of', 'to', 'of', 'the', 'thanks', 'to', 'so']\n"
     ]
    }
   ],
   "source": [
    "print(sl[:100])"
   ]
  },
  {
   "cell_type": "code",
   "execution_count": 42,
   "metadata": {
    "collapsed": false,
    "deletable": true,
    "editable": true
   },
   "outputs": [
    {
     "data": {
      "text/plain": [
       "-141"
      ]
     },
     "execution_count": 42,
     "metadata": {},
     "output_type": "execute_result"
    }
   ],
   "source": [
    "sum = pscore + nscore\n",
    "sum\n",
    "#sum of these scores is -141"
   ]
  },
  {
   "cell_type": "code",
   "execution_count": 43,
   "metadata": {
    "collapsed": false,
    "deletable": true,
    "editable": true
   },
   "outputs": [
    {
     "data": {
      "text/plain": [
       "-0.8192307692307692"
      ]
     },
     "execution_count": 43,
     "metadata": {},
     "output_type": "execute_result"
    }
   ],
   "source": [
    "ratio = (pscore+0.0)/nscore\n",
    "ratio\n",
    "#I defined:\n",
    "#0.5<|ratio|<1 -> weakly negative\n",
    "#0<|ratio|=<0.5 -> strongly negative\n",
    "#1<=|ratio|<2 -> weakly positive\n",
    "#2<=|ratio| -> strongly positive\n",
    "#ratio is -0.8192307692307692"
   ]
  },
  {
   "cell_type": "markdown",
   "metadata": {
    "deletable": true,
    "editable": true
   },
   "source": [
    "## Conclusion"
   ]
  },
  {
   "cell_type": "markdown",
   "metadata": {
    "deletable": true,
    "editable": true
   },
   "source": [
    "#### The sum of all values observed is -141 and the ratio between positive words and negative words is -0.82, which indicate that negative words toward bitcoin are slightly more than positive words. Base on my definition, I think the sentiment of bitcoin topic is weakly negative. (This makes sense since bitcoin is dropping these days but there are still a lot of people have confidence in bitcoin!)"
   ]
  },
  {
   "cell_type": "code",
   "execution_count": 44,
   "metadata": {
    "collapsed": true,
    "deletable": true,
    "editable": true
   },
   "outputs": [],
   "source": [
    "f.close()"
   ]
  },
  {
   "cell_type": "code",
   "execution_count": 45,
   "metadata": {
    "collapsed": true,
    "deletable": true,
    "editable": true
   },
   "outputs": [],
   "source": [
    "f2.close()"
   ]
  },
  {
   "cell_type": "code",
   "execution_count": 46,
   "metadata": {
    "collapsed": true,
    "deletable": true,
    "editable": true
   },
   "outputs": [],
   "source": [
    "f3.close()"
   ]
  },
  {
   "cell_type": "code",
   "execution_count": 47,
   "metadata": {
    "collapsed": true,
    "deletable": true,
    "editable": true
   },
   "outputs": [],
   "source": [
    "f4.close()"
   ]
  }
 ],
 "metadata": {
  "kernelspec": {
   "display_name": "Python 2",
   "language": "python",
   "name": "python2"
  },
  "language_info": {
   "codemirror_mode": {
    "name": "ipython",
    "version": 2
   },
   "file_extension": ".py",
   "mimetype": "text/x-python",
   "name": "python",
   "nbconvert_exporter": "python",
   "pygments_lexer": "ipython2",
   "version": "2.7.11"
  }
 },
 "nbformat": 4,
 "nbformat_minor": 2
}
